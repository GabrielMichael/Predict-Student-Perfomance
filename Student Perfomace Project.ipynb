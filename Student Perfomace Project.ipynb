{
  "cells": [
    {
      "metadata": {
        "collapsed": true
      },
      "cell_type": "markdown",
      "source": "# Analyse der Perfomance von Studenten und Vorhersage der erreichten Punkte\nIn diesem Projekt beschäftige ich mich mit dem Datanset \"Students Performance in Exams\" von Kaggle https://www.kaggle.com/spscientist/students-performance-in-exams\nDataset stammt von : http://roycekimmons.com/tools/generated_data/exams\nUmfasste Spalten:\n - gender\n - race/ethnicity\n - parental level of education\n - lunch\n - test preparation course\n - math score\n - reading score\n - writing score"
    },
    {
      "metadata": {
        "trusted": true
      },
      "cell_type": "code",
      "source": "#importiere die üblichen Libraries\nimport numpy as np\nimport pandas as pd\nimport matplotlib.pyplot as plt\nimport seaborn as sns\n%matplotlib inline",
      "execution_count": 2,
      "outputs": []
    },
    {
      "metadata": {
        "trusted": true
      },
      "cell_type": "code",
      "source": "#Lese die Daten ein\ndata = pd.read_csv('StudentsPerformance.csv')",
      "execution_count": 3,
      "outputs": []
    },
    {
      "metadata": {
        "trusted": true
      },
      "cell_type": "code",
      "source": "#Kurzes Kennenlernen mit Dataset\ndata.head()",
      "execution_count": 4,
      "outputs": [
        {
          "output_type": "execute_result",
          "execution_count": 4,
          "data": {
            "text/html": "<div>\n<style scoped>\n    .dataframe tbody tr th:only-of-type {\n        vertical-align: middle;\n    }\n\n    .dataframe tbody tr th {\n        vertical-align: top;\n    }\n\n    .dataframe thead th {\n        text-align: right;\n    }\n</style>\n<table border=\"1\" class=\"dataframe\">\n  <thead>\n    <tr style=\"text-align: right;\">\n      <th></th>\n      <th>gender</th>\n      <th>race/ethnicity</th>\n      <th>parental level of education</th>\n      <th>lunch</th>\n      <th>test preparation course</th>\n      <th>math score</th>\n      <th>reading score</th>\n      <th>writing score</th>\n    </tr>\n  </thead>\n  <tbody>\n    <tr>\n      <th>0</th>\n      <td>female</td>\n      <td>group B</td>\n      <td>bachelor's degree</td>\n      <td>standard</td>\n      <td>none</td>\n      <td>72</td>\n      <td>72</td>\n      <td>74</td>\n    </tr>\n    <tr>\n      <th>1</th>\n      <td>female</td>\n      <td>group C</td>\n      <td>some college</td>\n      <td>standard</td>\n      <td>completed</td>\n      <td>69</td>\n      <td>90</td>\n      <td>88</td>\n    </tr>\n    <tr>\n      <th>2</th>\n      <td>female</td>\n      <td>group B</td>\n      <td>master's degree</td>\n      <td>standard</td>\n      <td>none</td>\n      <td>90</td>\n      <td>95</td>\n      <td>93</td>\n    </tr>\n    <tr>\n      <th>3</th>\n      <td>male</td>\n      <td>group A</td>\n      <td>associate's degree</td>\n      <td>free/reduced</td>\n      <td>none</td>\n      <td>47</td>\n      <td>57</td>\n      <td>44</td>\n    </tr>\n    <tr>\n      <th>4</th>\n      <td>male</td>\n      <td>group C</td>\n      <td>some college</td>\n      <td>standard</td>\n      <td>none</td>\n      <td>76</td>\n      <td>78</td>\n      <td>75</td>\n    </tr>\n  </tbody>\n</table>\n</div>",
            "text/plain": "   gender race/ethnicity parental level of education         lunch  \\\n0  female        group B           bachelor's degree      standard   \n1  female        group C                some college      standard   \n2  female        group B             master's degree      standard   \n3    male        group A          associate's degree  free/reduced   \n4    male        group C                some college      standard   \n\n  test preparation course  math score  reading score  writing score  \n0                    none          72             72             74  \n1               completed          69             90             88  \n2                    none          90             95             93  \n3                    none          47             57             44  \n4                    none          76             78             75  "
          },
          "metadata": {}
        }
      ]
    },
    {
      "metadata": {
        "trusted": true
      },
      "cell_type": "code",
      "source": "#Welche Typen von Lunch gibt es? Nur 2: Standard und free/reduced\ndata.lunch.unique()",
      "execution_count": 6,
      "outputs": [
        {
          "output_type": "execute_result",
          "execution_count": 6,
          "data": {
            "text/plain": "array(['standard', 'free/reduced'], dtype=object)"
          },
          "metadata": {}
        }
      ]
    },
    {
      "metadata": {
        "trusted": true
      },
      "cell_type": "code",
      "source": "#Benenne die Spalten um für die leichtere Bedienung\ndata.columns = ['Gender', 'Ethnicity', 'ParentEdu', 'Lunch', 'PrepCourse', 'MathScore', 'ReadingScore', 'WritingScore']",
      "execution_count": 8,
      "outputs": []
    },
    {
      "metadata": {
        "trusted": true
      },
      "cell_type": "code",
      "source": "#Fehlen uns irgendwelche Werte?\ndef check_missing_data(df):\n    flag=df.isna().sum().any()\n    if flag==True:\n        total = df.isnull().sum()\n        percent = (df.isnull().sum()*100)/(df.isnull().count())\n        output = pd.concat([total, percent], axis=1, keys=['Total', 'Percent'])\n        data_type = []\n        for col in df.columns:\n            dtype = str(df[col].dtype)\n            data_type.append(dtype)\n        output['Types'] = data_type\n        return(output)\n    else:\n        return(False)",
      "execution_count": 10,
      "outputs": []
    },
    {
      "metadata": {
        "trusted": true
      },
      "cell_type": "code",
      "source": "#Keine fehlende Werte\ncheck_missing_data(data)",
      "execution_count": 12,
      "outputs": [
        {
          "output_type": "execute_result",
          "execution_count": 12,
          "data": {
            "text/plain": "False"
          },
          "metadata": {}
        }
      ]
    },
    {
      "metadata": {
        "trusted": true
      },
      "cell_type": "code",
      "source": "#Füge eine Spalte MiddleScore ein. Diese enthält den Mittelwert der 3 Scores. Diesen Wert werde ich später versuchen vorherzusagen.\ndata['MiddleScore'] = (data.MathScore + data.ReadingScore + data.WritingScore)/3",
      "execution_count": 13,
      "outputs": []
    },
    {
      "metadata": {
        "trusted": true
      },
      "cell_type": "code",
      "source": "data.head()",
      "execution_count": 16,
      "outputs": [
        {
          "output_type": "execute_result",
          "execution_count": 16,
          "data": {
            "text/html": "<div>\n<style scoped>\n    .dataframe tbody tr th:only-of-type {\n        vertical-align: middle;\n    }\n\n    .dataframe tbody tr th {\n        vertical-align: top;\n    }\n\n    .dataframe thead th {\n        text-align: right;\n    }\n</style>\n<table border=\"1\" class=\"dataframe\">\n  <thead>\n    <tr style=\"text-align: right;\">\n      <th></th>\n      <th>Gender</th>\n      <th>Ethnicity</th>\n      <th>ParentEdu</th>\n      <th>Lunch</th>\n      <th>PrepCourse</th>\n      <th>MathScore</th>\n      <th>ReadingScore</th>\n      <th>WritingScore</th>\n      <th>MiddleScore</th>\n    </tr>\n  </thead>\n  <tbody>\n    <tr>\n      <th>0</th>\n      <td>female</td>\n      <td>group B</td>\n      <td>bachelor's degree</td>\n      <td>standard</td>\n      <td>none</td>\n      <td>72</td>\n      <td>72</td>\n      <td>74</td>\n      <td>72.666667</td>\n    </tr>\n    <tr>\n      <th>1</th>\n      <td>female</td>\n      <td>group C</td>\n      <td>some college</td>\n      <td>standard</td>\n      <td>completed</td>\n      <td>69</td>\n      <td>90</td>\n      <td>88</td>\n      <td>82.333333</td>\n    </tr>\n    <tr>\n      <th>2</th>\n      <td>female</td>\n      <td>group B</td>\n      <td>master's degree</td>\n      <td>standard</td>\n      <td>none</td>\n      <td>90</td>\n      <td>95</td>\n      <td>93</td>\n      <td>92.666667</td>\n    </tr>\n    <tr>\n      <th>3</th>\n      <td>male</td>\n      <td>group A</td>\n      <td>associate's degree</td>\n      <td>free/reduced</td>\n      <td>none</td>\n      <td>47</td>\n      <td>57</td>\n      <td>44</td>\n      <td>49.333333</td>\n    </tr>\n    <tr>\n      <th>4</th>\n      <td>male</td>\n      <td>group C</td>\n      <td>some college</td>\n      <td>standard</td>\n      <td>none</td>\n      <td>76</td>\n      <td>78</td>\n      <td>75</td>\n      <td>76.333333</td>\n    </tr>\n  </tbody>\n</table>\n</div>",
            "text/plain": "   Gender Ethnicity           ParentEdu         Lunch PrepCourse  MathScore  \\\n0  female   group B   bachelor's degree      standard       none         72   \n1  female   group C        some college      standard  completed         69   \n2  female   group B     master's degree      standard       none         90   \n3    male   group A  associate's degree  free/reduced       none         47   \n4    male   group C        some college      standard       none         76   \n\n   ReadingScore  WritingScore  MiddleScore  \n0            72            74    72.666667  \n1            90            88    82.333333  \n2            95            93    92.666667  \n3            57            44    49.333333  \n4            78            75    76.333333  "
          },
          "metadata": {}
        }
      ]
    },
    {
      "metadata": {},
      "cell_type": "markdown",
      "source": "Die Spalte Ethnicity ist nicht klar. Diese wird in Gruppen A-E unterteilt. Mal sehen, ob diese Aufteilung einen Einfluss auf Score hat."
    },
    {
      "metadata": {
        "trusted": true
      },
      "cell_type": "code",
      "source": "data.groupby('Ethnicity').mean()",
      "execution_count": 18,
      "outputs": [
        {
          "output_type": "execute_result",
          "execution_count": 18,
          "data": {
            "text/html": "<div>\n<style scoped>\n    .dataframe tbody tr th:only-of-type {\n        vertical-align: middle;\n    }\n\n    .dataframe tbody tr th {\n        vertical-align: top;\n    }\n\n    .dataframe thead th {\n        text-align: right;\n    }\n</style>\n<table border=\"1\" class=\"dataframe\">\n  <thead>\n    <tr style=\"text-align: right;\">\n      <th></th>\n      <th>MathScore</th>\n      <th>ReadingScore</th>\n      <th>WritingScore</th>\n      <th>MiddleScore</th>\n    </tr>\n    <tr>\n      <th>Ethnicity</th>\n      <th></th>\n      <th></th>\n      <th></th>\n      <th></th>\n    </tr>\n  </thead>\n  <tbody>\n    <tr>\n      <th>group A</th>\n      <td>61.629213</td>\n      <td>64.674157</td>\n      <td>62.674157</td>\n      <td>62.992509</td>\n    </tr>\n    <tr>\n      <th>group B</th>\n      <td>63.452632</td>\n      <td>67.352632</td>\n      <td>65.600000</td>\n      <td>65.468421</td>\n    </tr>\n    <tr>\n      <th>group C</th>\n      <td>64.463950</td>\n      <td>69.103448</td>\n      <td>67.827586</td>\n      <td>67.131661</td>\n    </tr>\n    <tr>\n      <th>group D</th>\n      <td>67.362595</td>\n      <td>70.030534</td>\n      <td>70.145038</td>\n      <td>69.179389</td>\n    </tr>\n    <tr>\n      <th>group E</th>\n      <td>73.821429</td>\n      <td>73.028571</td>\n      <td>71.407143</td>\n      <td>72.752381</td>\n    </tr>\n  </tbody>\n</table>\n</div>",
            "text/plain": "           MathScore  ReadingScore  WritingScore  MiddleScore\nEthnicity                                                    \ngroup A    61.629213     64.674157     62.674157    62.992509\ngroup B    63.452632     67.352632     65.600000    65.468421\ngroup C    64.463950     69.103448     67.827586    67.131661\ngroup D    67.362595     70.030534     70.145038    69.179389\ngroup E    73.821429     73.028571     71.407143    72.752381"
          },
          "metadata": {}
        }
      ]
    },
    {
      "metadata": {},
      "cell_type": "markdown",
      "source": "Klare Unterschiede erkennbar.(s. MiddleScore)"
    },
    {
      "metadata": {
        "trusted": true
      },
      "cell_type": "code",
      "source": "#Wie Beeinflusst die Ausbildung der Eltern die Punktzahl?\ndata.groupby('ParentEdu').mean()",
      "execution_count": 23,
      "outputs": [
        {
          "output_type": "execute_result",
          "execution_count": 23,
          "data": {
            "text/html": "<div>\n<style scoped>\n    .dataframe tbody tr th:only-of-type {\n        vertical-align: middle;\n    }\n\n    .dataframe tbody tr th {\n        vertical-align: top;\n    }\n\n    .dataframe thead th {\n        text-align: right;\n    }\n</style>\n<table border=\"1\" class=\"dataframe\">\n  <thead>\n    <tr style=\"text-align: right;\">\n      <th></th>\n      <th>MathScore</th>\n      <th>ReadingScore</th>\n      <th>WritingScore</th>\n      <th>MiddleScore</th>\n    </tr>\n    <tr>\n      <th>ParentEdu</th>\n      <th></th>\n      <th></th>\n      <th></th>\n      <th></th>\n    </tr>\n  </thead>\n  <tbody>\n    <tr>\n      <th>associate's degree</th>\n      <td>67.882883</td>\n      <td>70.927928</td>\n      <td>69.896396</td>\n      <td>69.569069</td>\n    </tr>\n    <tr>\n      <th>bachelor's degree</th>\n      <td>69.389831</td>\n      <td>73.000000</td>\n      <td>73.381356</td>\n      <td>71.923729</td>\n    </tr>\n    <tr>\n      <th>high school</th>\n      <td>62.137755</td>\n      <td>64.704082</td>\n      <td>62.448980</td>\n      <td>63.096939</td>\n    </tr>\n    <tr>\n      <th>master's degree</th>\n      <td>69.745763</td>\n      <td>75.372881</td>\n      <td>75.677966</td>\n      <td>73.598870</td>\n    </tr>\n    <tr>\n      <th>some college</th>\n      <td>67.128319</td>\n      <td>69.460177</td>\n      <td>68.840708</td>\n      <td>68.476401</td>\n    </tr>\n    <tr>\n      <th>some high school</th>\n      <td>63.497207</td>\n      <td>66.938547</td>\n      <td>64.888268</td>\n      <td>65.108007</td>\n    </tr>\n  </tbody>\n</table>\n</div>",
            "text/plain": "                    MathScore  ReadingScore  WritingScore  MiddleScore\nParentEdu                                                             \nassociate's degree  67.882883     70.927928     69.896396    69.569069\nbachelor's degree   69.389831     73.000000     73.381356    71.923729\nhigh school         62.137755     64.704082     62.448980    63.096939\nmaster's degree     69.745763     75.372881     75.677966    73.598870\nsome college        67.128319     69.460177     68.840708    68.476401\nsome high school    63.497207     66.938547     64.888268    65.108007"
          },
          "metadata": {}
        }
      ]
    },
    {
      "metadata": {
        "trusted": true
      },
      "cell_type": "code",
      "source": "#Und Geschlecht?\n",
      "execution_count": 37,
      "outputs": []
    },
    {
      "metadata": {
        "trusted": true
      },
      "cell_type": "code",
      "source": "mean_gender = data.groupby('Gender').mean()",
      "execution_count": 26,
      "outputs": []
    },
    {
      "metadata": {
        "trusted": true
      },
      "cell_type": "code",
      "source": "#Weibliche Teilnehmer haben bessere Resultate im Mittel. Männliche Teilnehmer erzielen jedoch bessere Resultate bei Mathe.\nplt.figure(figsize=(14,6))\nmean_gender.plot(kind = 'bar')",
      "execution_count": 36,
      "outputs": [
        {
          "output_type": "execute_result",
          "execution_count": 36,
          "data": {
            "text/plain": "<matplotlib.axes._subplots.AxesSubplot at 0x7fa3672d2be0>"
          },
          "metadata": {}
        },
        {
          "output_type": "display_data",
          "data": {
            "text/plain": "<Figure size 1008x432 with 0 Axes>"
          },
          "metadata": {}
        },
        {
          "output_type": "display_data",
          "data": {
            "image/png": "[encoded data removed]",
            "text/plain": "<Figure size 432x288 with 1 Axes>"
          },
          "metadata": {
            "needs_background": "light"
          }
        }
      ]
    },
    {
      "metadata": {
        "trusted": true
      },
      "cell_type": "code",
      "source": "#Schauen wir uns die Abhängigkeit vom Bildungsgrad der Eltern\nparent_gender = data.groupby(['Gender','ParentEdu']).mean().reset_index()\nsns.factorplot(x='Gender', y='MiddleScore', hue='ParentEdu', data=parent_gender, kind='bar')",
      "execution_count": 43,
      "outputs": [
        {
          "output_type": "stream",
          "text": "/home/nbuser/anaconda3_501/lib/python3.6/site-packages/seaborn/categorical.py:3666: UserWarning: The `factorplot` function has been renamed to `catplot`. The original name will be removed in a future release. Please update your code. Note that the default `kind` in `factorplot` (`'point'`) has changed `'strip'` in `catplot`.\n  warnings.warn(msg)\n",
          "name": "stderr"
        },
        {
          "output_type": "execute_result",
          "execution_count": 43,
          "data": {
            "text/plain": "<seaborn.axisgrid.FacetGrid at 0x7fa366fc05f8>"
          },
          "metadata": {}
        },
        {
          "output_type": "display_data",
          "data": {
            "image/png": "[encoded data removed]",
            "text/plain": "<Figure size 489.625x360 with 1 Axes>"
          },
          "metadata": {
            "needs_background": "light"
          }
        }
      ]
    },
    {
      "metadata": {},
      "cell_type": "markdown",
      "source": " Wir sehen klar, dass im Falle, wenn Eltern ein Degree haben, die Studenten bessere Resultate erzielen. Eventuell macht es Sinn die Aufteilung in verschiedene Degrees zu vereinfachen: entweder hat man ein Degree oder nicht. "
    },
    {
      "metadata": {
        "trusted": true
      },
      "cell_type": "code",
      "source": "data['Has_Degree'] = data.ParentEdu.apply(lambda x: 'no' if x in ['high school', 'some high school'] else 'yes')",
      "execution_count": 45,
      "outputs": []
    },
    {
      "metadata": {
        "trusted": true
      },
      "cell_type": "code",
      "source": "data.sample(5)",
      "execution_count": 48,
      "outputs": [
        {
          "output_type": "execute_result",
          "execution_count": 48,
          "data": {
            "text/html": "<div>\n<style scoped>\n    .dataframe tbody tr th:only-of-type {\n        vertical-align: middle;\n    }\n\n    .dataframe tbody tr th {\n        vertical-align: top;\n    }\n\n    .dataframe thead th {\n        text-align: right;\n    }\n</style>\n<table border=\"1\" class=\"dataframe\">\n  <thead>\n    <tr style=\"text-align: right;\">\n      <th></th>\n      <th>Gender</th>\n      <th>Ethnicity</th>\n      <th>ParentEdu</th>\n      <th>Lunch</th>\n      <th>PrepCourse</th>\n      <th>MathScore</th>\n      <th>ReadingScore</th>\n      <th>WritingScore</th>\n      <th>MiddleScore</th>\n      <th>Has_Degree</th>\n    </tr>\n  </thead>\n  <tbody>\n    <tr>\n      <th>621</th>\n      <td>male</td>\n      <td>group B</td>\n      <td>bachelor's degree</td>\n      <td>free/reduced</td>\n      <td>none</td>\n      <td>62</td>\n      <td>63</td>\n      <td>56</td>\n      <td>60.333333</td>\n      <td>yes</td>\n    </tr>\n    <tr>\n      <th>552</th>\n      <td>female</td>\n      <td>group B</td>\n      <td>associate's degree</td>\n      <td>standard</td>\n      <td>none</td>\n      <td>40</td>\n      <td>48</td>\n      <td>50</td>\n      <td>46.000000</td>\n      <td>yes</td>\n    </tr>\n    <tr>\n      <th>675</th>\n      <td>female</td>\n      <td>group B</td>\n      <td>some college</td>\n      <td>standard</td>\n      <td>completed</td>\n      <td>50</td>\n      <td>64</td>\n      <td>66</td>\n      <td>60.000000</td>\n      <td>yes</td>\n    </tr>\n    <tr>\n      <th>519</th>\n      <td>female</td>\n      <td>group B</td>\n      <td>high school</td>\n      <td>free/reduced</td>\n      <td>completed</td>\n      <td>67</td>\n      <td>78</td>\n      <td>79</td>\n      <td>74.666667</td>\n      <td>no</td>\n    </tr>\n    <tr>\n      <th>840</th>\n      <td>female</td>\n      <td>group D</td>\n      <td>high school</td>\n      <td>free/reduced</td>\n      <td>none</td>\n      <td>39</td>\n      <td>52</td>\n      <td>46</td>\n      <td>45.666667</td>\n      <td>no</td>\n    </tr>\n  </tbody>\n</table>\n</div>",
            "text/plain": "     Gender Ethnicity           ParentEdu         Lunch PrepCourse  MathScore  \\\n621    male   group B   bachelor's degree  free/reduced       none         62   \n552  female   group B  associate's degree      standard       none         40   \n675  female   group B        some college      standard  completed         50   \n519  female   group B         high school  free/reduced  completed         67   \n840  female   group D         high school  free/reduced       none         39   \n\n     ReadingScore  WritingScore  MiddleScore Has_Degree  \n621            63            56    60.333333        yes  \n552            48            50    46.000000        yes  \n675            64            66    60.000000        yes  \n519            78            79    74.666667         no  \n840            52            46    45.666667         no  "
          },
          "metadata": {}
        }
      ]
    },
    {
      "metadata": {
        "trusted": true
      },
      "cell_type": "code",
      "source": "#Wie beeinflusst Lunch die Punktzahl?\ndata.groupby('Lunch').mean()",
      "execution_count": 55,
      "outputs": [
        {
          "output_type": "execute_result",
          "execution_count": 55,
          "data": {
            "text/html": "<div>\n<style scoped>\n    .dataframe tbody tr th:only-of-type {\n        vertical-align: middle;\n    }\n\n    .dataframe tbody tr th {\n        vertical-align: top;\n    }\n\n    .dataframe thead th {\n        text-align: right;\n    }\n</style>\n<table border=\"1\" class=\"dataframe\">\n  <thead>\n    <tr style=\"text-align: right;\">\n      <th></th>\n      <th>MathScore</th>\n      <th>ReadingScore</th>\n      <th>WritingScore</th>\n      <th>MiddleScore</th>\n    </tr>\n    <tr>\n      <th>Lunch</th>\n      <th></th>\n      <th></th>\n      <th></th>\n      <th></th>\n    </tr>\n  </thead>\n  <tbody>\n    <tr>\n      <th>free/reduced</th>\n      <td>58.921127</td>\n      <td>64.653521</td>\n      <td>63.022535</td>\n      <td>62.199061</td>\n    </tr>\n    <tr>\n      <th>standard</th>\n      <td>70.034109</td>\n      <td>71.654264</td>\n      <td>70.823256</td>\n      <td>70.837209</td>\n    </tr>\n  </tbody>\n</table>\n</div>",
            "text/plain": "              MathScore  ReadingScore  WritingScore  MiddleScore\nLunch                                                           \nfree/reduced  58.921127     64.653521     63.022535    62.199061\nstandard      70.034109     71.654264     70.823256    70.837209"
          },
          "metadata": {}
        }
      ]
    },
    {
      "metadata": {
        "trusted": true
      },
      "cell_type": "code",
      "source": "sns.factorplot(x = 'Lunch', y = 'MiddleScore', data = data, kind = 'bar')",
      "execution_count": 58,
      "outputs": [
        {
          "output_type": "stream",
          "text": "/home/nbuser/anaconda3_501/lib/python3.6/site-packages/seaborn/categorical.py:3666: UserWarning: The `factorplot` function has been renamed to `catplot`. The original name will be removed in a future release. Please update your code. Note that the default `kind` in `factorplot` (`'point'`) has changed `'strip'` in `catplot`.\n  warnings.warn(msg)\n",
          "name": "stderr"
        },
        {
          "output_type": "execute_result",
          "execution_count": 58,
          "data": {
            "text/plain": "<seaborn.axisgrid.FacetGrid at 0x7fa36673f400>"
          },
          "metadata": {}
        },
        {
          "output_type": "display_data",
          "data": {
            "image/png": "[encoded data removed]",
            "text/plain": "<Figure size 360x360 with 1 Axes>"
          },
          "metadata": {
            "needs_background": "light"
          }
        }
      ]
    },
    {
      "metadata": {},
      "cell_type": "markdown",
      "source": "Tatsächlich sehen wir, dass Lunch auch einen Einfluss auf die Punktzahl hat. "
    },
    {
      "metadata": {
        "trusted": true
      },
      "cell_type": "code",
      "source": "sns.factorplot(x ='Gender', y='MiddleScore', hue = 'Has_Degree', data = data, kind = 'bar')",
      "execution_count": 60,
      "outputs": [
        {
          "output_type": "stream",
          "text": "/home/nbuser/anaconda3_501/lib/python3.6/site-packages/seaborn/categorical.py:3666: UserWarning: The `factorplot` function has been renamed to `catplot`. The original name will be removed in a future release. Please update your code. Note that the default `kind` in `factorplot` (`'point'`) has changed `'strip'` in `catplot`.\n  warnings.warn(msg)\n",
          "name": "stderr"
        },
        {
          "output_type": "execute_result",
          "execution_count": 60,
          "data": {
            "text/plain": "<seaborn.axisgrid.FacetGrid at 0x7fa3666a7908>"
          },
          "metadata": {}
        },
        {
          "output_type": "display_data",
          "data": {
            "image/png": "[encoded data removed]",
            "text/plain": "<Figure size 428.5x360 with 1 Axes>"
          },
          "metadata": {
            "needs_background": "light"
          }
        }
      ]
    },
    {
      "metadata": {},
      "cell_type": "markdown",
      "source": "Klare Unterschiede zu erkennen!"
    },
    {
      "metadata": {
        "trusted": true
      },
      "cell_type": "code",
      "source": "#nun räumen wir ein wenig auf und bereiten die Daten für das prediction Modell vor\ndataset = data.groupby(['Gender', 'Has_Degree', 'PrepCourse', 'Lunch', 'Ethnicity']).mean().reset_index()\nsortdata = dataset.sort_values(by = 'MiddleScore', ascending = False)\nsortdata.drop(columns = ['MathScore', 'ReadingScore', 'WritingScore'], inplace = True)",
      "execution_count": 64,
      "outputs": []
    },
    {
      "metadata": {
        "trusted": true
      },
      "cell_type": "code",
      "source": "sortdata.head(20)",
      "execution_count": 76,
      "outputs": [
        {
          "output_type": "execute_result",
          "execution_count": 76,
          "data": {
            "text/html": "<div>\n<style scoped>\n    .dataframe tbody tr th:only-of-type {\n        vertical-align: middle;\n    }\n\n    .dataframe tbody tr th {\n        vertical-align: top;\n    }\n\n    .dataframe thead th {\n        text-align: right;\n    }\n</style>\n<table border=\"1\" class=\"dataframe\">\n  <thead>\n    <tr style=\"text-align: right;\">\n      <th></th>\n      <th>Gender</th>\n      <th>Has_Degree</th>\n      <th>PrepCourse</th>\n      <th>Lunch</th>\n      <th>Ethnicity</th>\n      <th>MiddleScore</th>\n    </tr>\n  </thead>\n  <tbody>\n    <tr>\n      <th>28</th>\n      <td>female</td>\n      <td>yes</td>\n      <td>completed</td>\n      <td>standard</td>\n      <td>group E</td>\n      <td>84.023810</td>\n    </tr>\n    <tr>\n      <th>5</th>\n      <td>female</td>\n      <td>no</td>\n      <td>completed</td>\n      <td>standard</td>\n      <td>group A</td>\n      <td>82.666667</td>\n    </tr>\n    <tr>\n      <th>66</th>\n      <td>male</td>\n      <td>yes</td>\n      <td>completed</td>\n      <td>standard</td>\n      <td>group C</td>\n      <td>79.980392</td>\n    </tr>\n    <tr>\n      <th>27</th>\n      <td>female</td>\n      <td>yes</td>\n      <td>completed</td>\n      <td>standard</td>\n      <td>group D</td>\n      <td>79.738095</td>\n    </tr>\n    <tr>\n      <th>65</th>\n      <td>male</td>\n      <td>yes</td>\n      <td>completed</td>\n      <td>standard</td>\n      <td>group B</td>\n      <td>79.100000</td>\n    </tr>\n    <tr>\n      <th>26</th>\n      <td>female</td>\n      <td>yes</td>\n      <td>completed</td>\n      <td>standard</td>\n      <td>group C</td>\n      <td>78.342593</td>\n    </tr>\n    <tr>\n      <th>64</th>\n      <td>male</td>\n      <td>yes</td>\n      <td>completed</td>\n      <td>standard</td>\n      <td>group A</td>\n      <td>77.761905</td>\n    </tr>\n    <tr>\n      <th>8</th>\n      <td>female</td>\n      <td>no</td>\n      <td>completed</td>\n      <td>standard</td>\n      <td>group D</td>\n      <td>76.566667</td>\n    </tr>\n    <tr>\n      <th>25</th>\n      <td>female</td>\n      <td>yes</td>\n      <td>completed</td>\n      <td>standard</td>\n      <td>group B</td>\n      <td>76.555556</td>\n    </tr>\n    <tr>\n      <th>23</th>\n      <td>female</td>\n      <td>yes</td>\n      <td>completed</td>\n      <td>free/reduced</td>\n      <td>group E</td>\n      <td>76.400000</td>\n    </tr>\n    <tr>\n      <th>48</th>\n      <td>male</td>\n      <td>no</td>\n      <td>completed</td>\n      <td>standard</td>\n      <td>group E</td>\n      <td>76.208333</td>\n    </tr>\n    <tr>\n      <th>68</th>\n      <td>male</td>\n      <td>yes</td>\n      <td>completed</td>\n      <td>standard</td>\n      <td>group E</td>\n      <td>76.066667</td>\n    </tr>\n    <tr>\n      <th>38</th>\n      <td>female</td>\n      <td>yes</td>\n      <td>none</td>\n      <td>standard</td>\n      <td>group E</td>\n      <td>75.840580</td>\n    </tr>\n    <tr>\n      <th>37</th>\n      <td>female</td>\n      <td>yes</td>\n      <td>none</td>\n      <td>standard</td>\n      <td>group D</td>\n      <td>75.813725</td>\n    </tr>\n    <tr>\n      <th>9</th>\n      <td>female</td>\n      <td>no</td>\n      <td>completed</td>\n      <td>standard</td>\n      <td>group E</td>\n      <td>75.555556</td>\n    </tr>\n    <tr>\n      <th>19</th>\n      <td>female</td>\n      <td>no</td>\n      <td>none</td>\n      <td>standard</td>\n      <td>group E</td>\n      <td>75.222222</td>\n    </tr>\n    <tr>\n      <th>22</th>\n      <td>female</td>\n      <td>yes</td>\n      <td>completed</td>\n      <td>free/reduced</td>\n      <td>group D</td>\n      <td>74.666667</td>\n    </tr>\n    <tr>\n      <th>24</th>\n      <td>female</td>\n      <td>yes</td>\n      <td>completed</td>\n      <td>standard</td>\n      <td>group A</td>\n      <td>73.333333</td>\n    </tr>\n    <tr>\n      <th>67</th>\n      <td>male</td>\n      <td>yes</td>\n      <td>completed</td>\n      <td>standard</td>\n      <td>group D</td>\n      <td>73.311111</td>\n    </tr>\n    <tr>\n      <th>7</th>\n      <td>female</td>\n      <td>no</td>\n      <td>completed</td>\n      <td>standard</td>\n      <td>group C</td>\n      <td>72.333333</td>\n    </tr>\n  </tbody>\n</table>\n</div>",
            "text/plain": "    Gender Has_Degree PrepCourse         Lunch Ethnicity  MiddleScore\n28  female        yes  completed      standard   group E    84.023810\n5   female         no  completed      standard   group A    82.666667\n66    male        yes  completed      standard   group C    79.980392\n27  female        yes  completed      standard   group D    79.738095\n65    male        yes  completed      standard   group B    79.100000\n26  female        yes  completed      standard   group C    78.342593\n64    male        yes  completed      standard   group A    77.761905\n8   female         no  completed      standard   group D    76.566667\n25  female        yes  completed      standard   group B    76.555556\n23  female        yes  completed  free/reduced   group E    76.400000\n48    male         no  completed      standard   group E    76.208333\n68    male        yes  completed      standard   group E    76.066667\n38  female        yes       none      standard   group E    75.840580\n37  female        yes       none      standard   group D    75.813725\n9   female         no  completed      standard   group E    75.555556\n19  female         no       none      standard   group E    75.222222\n22  female        yes  completed  free/reduced   group D    74.666667\n24  female        yes  completed      standard   group A    73.333333\n67    male        yes  completed      standard   group D    73.311111\n7   female         no  completed      standard   group C    72.333333"
          },
          "metadata": {}
        }
      ]
    },
    {
      "metadata": {
        "trusted": true
      },
      "cell_type": "code",
      "source": "sortdata.tail(20)",
      "execution_count": 77,
      "outputs": [
        {
          "output_type": "execute_result",
          "execution_count": 77,
          "data": {
            "text/html": "<div>\n<style scoped>\n    .dataframe tbody tr th:only-of-type {\n        vertical-align: middle;\n    }\n\n    .dataframe tbody tr th {\n        vertical-align: top;\n    }\n\n    .dataframe thead th {\n        text-align: right;\n    }\n</style>\n<table border=\"1\" class=\"dataframe\">\n  <thead>\n    <tr style=\"text-align: right;\">\n      <th></th>\n      <th>Gender</th>\n      <th>Has_Degree</th>\n      <th>PrepCourse</th>\n      <th>Lunch</th>\n      <th>Ethnicity</th>\n      <th>MiddleScore</th>\n    </tr>\n  </thead>\n  <tbody>\n    <tr>\n      <th>31</th>\n      <td>female</td>\n      <td>yes</td>\n      <td>none</td>\n      <td>free/reduced</td>\n      <td>group C</td>\n      <td>61.045455</td>\n    </tr>\n    <tr>\n      <th>71</th>\n      <td>male</td>\n      <td>yes</td>\n      <td>none</td>\n      <td>free/reduced</td>\n      <td>group C</td>\n      <td>60.936508</td>\n    </tr>\n    <tr>\n      <th>0</th>\n      <td>female</td>\n      <td>no</td>\n      <td>completed</td>\n      <td>free/reduced</td>\n      <td>group A</td>\n      <td>59.555556</td>\n    </tr>\n    <tr>\n      <th>44</th>\n      <td>male</td>\n      <td>no</td>\n      <td>completed</td>\n      <td>standard</td>\n      <td>group A</td>\n      <td>59.333333</td>\n    </tr>\n    <tr>\n      <th>51</th>\n      <td>male</td>\n      <td>no</td>\n      <td>none</td>\n      <td>free/reduced</td>\n      <td>group C</td>\n      <td>58.787879</td>\n    </tr>\n    <tr>\n      <th>29</th>\n      <td>female</td>\n      <td>yes</td>\n      <td>none</td>\n      <td>free/reduced</td>\n      <td>group A</td>\n      <td>58.500000</td>\n    </tr>\n    <tr>\n      <th>69</th>\n      <td>male</td>\n      <td>yes</td>\n      <td>none</td>\n      <td>free/reduced</td>\n      <td>group A</td>\n      <td>58.047619</td>\n    </tr>\n    <tr>\n      <th>13</th>\n      <td>female</td>\n      <td>no</td>\n      <td>none</td>\n      <td>free/reduced</td>\n      <td>group D</td>\n      <td>57.142857</td>\n    </tr>\n    <tr>\n      <th>52</th>\n      <td>male</td>\n      <td>no</td>\n      <td>none</td>\n      <td>free/reduced</td>\n      <td>group D</td>\n      <td>56.416667</td>\n    </tr>\n    <tr>\n      <th>14</th>\n      <td>female</td>\n      <td>no</td>\n      <td>none</td>\n      <td>free/reduced</td>\n      <td>group E</td>\n      <td>56.000000</td>\n    </tr>\n    <tr>\n      <th>54</th>\n      <td>male</td>\n      <td>no</td>\n      <td>none</td>\n      <td>standard</td>\n      <td>group A</td>\n      <td>56.000000</td>\n    </tr>\n    <tr>\n      <th>70</th>\n      <td>male</td>\n      <td>yes</td>\n      <td>none</td>\n      <td>free/reduced</td>\n      <td>group B</td>\n      <td>55.500000</td>\n    </tr>\n    <tr>\n      <th>49</th>\n      <td>male</td>\n      <td>no</td>\n      <td>none</td>\n      <td>free/reduced</td>\n      <td>group A</td>\n      <td>54.208333</td>\n    </tr>\n    <tr>\n      <th>53</th>\n      <td>male</td>\n      <td>no</td>\n      <td>none</td>\n      <td>free/reduced</td>\n      <td>group E</td>\n      <td>54.000000</td>\n    </tr>\n    <tr>\n      <th>11</th>\n      <td>female</td>\n      <td>no</td>\n      <td>none</td>\n      <td>free/reduced</td>\n      <td>group B</td>\n      <td>53.066667</td>\n    </tr>\n    <tr>\n      <th>41</th>\n      <td>male</td>\n      <td>no</td>\n      <td>completed</td>\n      <td>free/reduced</td>\n      <td>group C</td>\n      <td>52.416667</td>\n    </tr>\n    <tr>\n      <th>10</th>\n      <td>female</td>\n      <td>no</td>\n      <td>none</td>\n      <td>free/reduced</td>\n      <td>group A</td>\n      <td>52.066667</td>\n    </tr>\n    <tr>\n      <th>12</th>\n      <td>female</td>\n      <td>no</td>\n      <td>none</td>\n      <td>free/reduced</td>\n      <td>group C</td>\n      <td>50.607843</td>\n    </tr>\n    <tr>\n      <th>40</th>\n      <td>male</td>\n      <td>no</td>\n      <td>completed</td>\n      <td>free/reduced</td>\n      <td>group B</td>\n      <td>50.333333</td>\n    </tr>\n    <tr>\n      <th>50</th>\n      <td>male</td>\n      <td>no</td>\n      <td>none</td>\n      <td>free/reduced</td>\n      <td>group B</td>\n      <td>45.333333</td>\n    </tr>\n  </tbody>\n</table>\n</div>",
            "text/plain": "    Gender Has_Degree PrepCourse         Lunch Ethnicity  MiddleScore\n31  female        yes       none  free/reduced   group C    61.045455\n71    male        yes       none  free/reduced   group C    60.936508\n0   female         no  completed  free/reduced   group A    59.555556\n44    male         no  completed      standard   group A    59.333333\n51    male         no       none  free/reduced   group C    58.787879\n29  female        yes       none  free/reduced   group A    58.500000\n69    male        yes       none  free/reduced   group A    58.047619\n13  female         no       none  free/reduced   group D    57.142857\n52    male         no       none  free/reduced   group D    56.416667\n14  female         no       none  free/reduced   group E    56.000000\n54    male         no       none      standard   group A    56.000000\n70    male        yes       none  free/reduced   group B    55.500000\n49    male         no       none  free/reduced   group A    54.208333\n53    male         no       none  free/reduced   group E    54.000000\n11  female         no       none  free/reduced   group B    53.066667\n41    male         no  completed  free/reduced   group C    52.416667\n10  female         no       none  free/reduced   group A    52.066667\n12  female         no       none  free/reduced   group C    50.607843\n40    male         no  completed  free/reduced   group B    50.333333\n50    male         no       none  free/reduced   group B    45.333333"
          },
          "metadata": {}
        }
      ]
    },
    {
      "metadata": {},
      "cell_type": "markdown",
      "source": "Interessante Erkenntnisse: Lunch und Vorbereitungskurse sind Schlüssen für hohe Punktzahl."
    },
    {
      "metadata": {
        "trusted": true
      },
      "cell_type": "code",
      "source": "dummiesdata = pd.get_dummies(dataset, columns = ['Gender', 'Ethnicity', 'Has_Degree', 'PrepCourse', 'Lunch'], dtype=int)",
      "execution_count": 79,
      "outputs": []
    },
    {
      "metadata": {
        "trusted": true
      },
      "cell_type": "code",
      "source": "dummiesdata.head()",
      "execution_count": 92,
      "outputs": [
        {
          "output_type": "execute_result",
          "execution_count": 92,
          "data": {
            "text/html": "<div>\n<style scoped>\n    .dataframe tbody tr th:only-of-type {\n        vertical-align: middle;\n    }\n\n    .dataframe tbody tr th {\n        vertical-align: top;\n    }\n\n    .dataframe thead th {\n        text-align: right;\n    }\n</style>\n<table border=\"1\" class=\"dataframe\">\n  <thead>\n    <tr style=\"text-align: right;\">\n      <th></th>\n      <th>MiddleScore</th>\n      <th>Gender_female</th>\n      <th>Gender_male</th>\n      <th>Ethnicity_group A</th>\n      <th>Ethnicity_group B</th>\n      <th>Ethnicity_group C</th>\n      <th>Ethnicity_group D</th>\n      <th>Ethnicity_group E</th>\n      <th>Has_Degree_no</th>\n      <th>Has_Degree_yes</th>\n      <th>PrepCourse_completed</th>\n      <th>PrepCourse_none</th>\n      <th>Lunch_free/reduced</th>\n      <th>Lunch_standard</th>\n    </tr>\n  </thead>\n  <tbody>\n    <tr>\n      <th>0</th>\n      <td>59.555556</td>\n      <td>1</td>\n      <td>0</td>\n      <td>1</td>\n      <td>0</td>\n      <td>0</td>\n      <td>0</td>\n      <td>0</td>\n      <td>1</td>\n      <td>0</td>\n      <td>1</td>\n      <td>0</td>\n      <td>1</td>\n      <td>0</td>\n    </tr>\n    <tr>\n      <th>1</th>\n      <td>66.851852</td>\n      <td>1</td>\n      <td>0</td>\n      <td>0</td>\n      <td>1</td>\n      <td>0</td>\n      <td>0</td>\n      <td>0</td>\n      <td>1</td>\n      <td>0</td>\n      <td>1</td>\n      <td>0</td>\n      <td>1</td>\n      <td>0</td>\n    </tr>\n    <tr>\n      <th>2</th>\n      <td>65.250000</td>\n      <td>1</td>\n      <td>0</td>\n      <td>0</td>\n      <td>0</td>\n      <td>1</td>\n      <td>0</td>\n      <td>0</td>\n      <td>1</td>\n      <td>0</td>\n      <td>1</td>\n      <td>0</td>\n      <td>1</td>\n      <td>0</td>\n    </tr>\n    <tr>\n      <th>3</th>\n      <td>61.133333</td>\n      <td>1</td>\n      <td>0</td>\n      <td>0</td>\n      <td>0</td>\n      <td>0</td>\n      <td>1</td>\n      <td>0</td>\n      <td>1</td>\n      <td>0</td>\n      <td>1</td>\n      <td>0</td>\n      <td>1</td>\n      <td>0</td>\n    </tr>\n    <tr>\n      <th>4</th>\n      <td>70.500000</td>\n      <td>1</td>\n      <td>0</td>\n      <td>0</td>\n      <td>0</td>\n      <td>0</td>\n      <td>0</td>\n      <td>1</td>\n      <td>1</td>\n      <td>0</td>\n      <td>1</td>\n      <td>0</td>\n      <td>1</td>\n      <td>0</td>\n    </tr>\n  </tbody>\n</table>\n</div>",
            "text/plain": "   MiddleScore  Gender_female  Gender_male  Ethnicity_group A  \\\n0    59.555556              1            0                  1   \n1    66.851852              1            0                  0   \n2    65.250000              1            0                  0   \n3    61.133333              1            0                  0   \n4    70.500000              1            0                  0   \n\n   Ethnicity_group B  Ethnicity_group C  Ethnicity_group D  Ethnicity_group E  \\\n0                  0                  0                  0                  0   \n1                  1                  0                  0                  0   \n2                  0                  1                  0                  0   \n3                  0                  0                  1                  0   \n4                  0                  0                  0                  1   \n\n   Has_Degree_no  Has_Degree_yes  PrepCourse_completed  PrepCourse_none  \\\n0              1               0                     1                0   \n1              1               0                     1                0   \n2              1               0                     1                0   \n3              1               0                     1                0   \n4              1               0                     1                0   \n\n   Lunch_free/reduced  Lunch_standard  \n0                   1               0  \n1                   1               0  \n2                   1               0  \n3                   1               0  \n4                   1               0  "
          },
          "metadata": {}
        }
      ]
    },
    {
      "metadata": {},
      "cell_type": "markdown",
      "source": "Jetzt versuchen wir mit linearer Regression die Vorhersagen zu machen."
    },
    {
      "metadata": {
        "trusted": true
      },
      "cell_type": "code",
      "source": "from sklearn.linear_model import LinearRegression",
      "execution_count": 93,
      "outputs": []
    },
    {
      "metadata": {
        "trusted": true
      },
      "cell_type": "code",
      "source": "model = LinearRegression()",
      "execution_count": 94,
      "outputs": []
    },
    {
      "metadata": {
        "trusted": true
      },
      "cell_type": "code",
      "source": "from sklearn.model_selection import train_test_split",
      "execution_count": 95,
      "outputs": []
    },
    {
      "metadata": {
        "trusted": true
      },
      "cell_type": "code",
      "source": "#definiere X und y, also  Target Variable 'Middle Score' und unabhängige Features\ny= dummiesdata.MiddleScore.to_frame()\nX= dummiesdata[dummiesdata.columns[1:]]",
      "execution_count": 112,
      "outputs": []
    },
    {
      "metadata": {
        "trusted": true
      },
      "cell_type": "code",
      "source": "#Teile X und y in Train und Test auf\nX_train, X_test, y_train, y_test = train_test_split(X, y, test_size=0.33, random_state=42)",
      "execution_count": 113,
      "outputs": []
    },
    {
      "metadata": {
        "trusted": true
      },
      "cell_type": "code",
      "source": "model.fit(X_train, y_train)",
      "execution_count": 116,
      "outputs": [
        {
          "output_type": "execute_result",
          "execution_count": 116,
          "data": {
            "text/plain": "LinearRegression(copy_X=True, fit_intercept=True, n_jobs=None,\n         normalize=False)"
          },
          "metadata": {}
        }
      ]
    },
    {
      "metadata": {
        "trusted": true
      },
      "cell_type": "code",
      "source": "#Erstelle die Vorhersagen\npredictions = model.predict(X_test)",
      "execution_count": 117,
      "outputs": []
    },
    {
      "metadata": {
        "trusted": true
      },
      "cell_type": "code",
      "source": "y_test",
      "execution_count": 139,
      "outputs": [
        {
          "output_type": "execute_result",
          "execution_count": 139,
          "data": {
            "text/html": "<div>\n<style scoped>\n    .dataframe tbody tr th:only-of-type {\n        vertical-align: middle;\n    }\n\n    .dataframe tbody tr th {\n        vertical-align: top;\n    }\n\n    .dataframe thead th {\n        text-align: right;\n    }\n</style>\n<table border=\"1\" class=\"dataframe\">\n  <thead>\n    <tr style=\"text-align: right;\">\n      <th></th>\n      <th>MiddleScore</th>\n    </tr>\n  </thead>\n  <tbody>\n    <tr>\n      <th>30</th>\n      <td>67.111111</td>\n    </tr>\n    <tr>\n      <th>0</th>\n      <td>59.555556</td>\n    </tr>\n    <tr>\n      <th>22</th>\n      <td>74.666667</td>\n    </tr>\n    <tr>\n      <th>31</th>\n      <td>61.045455</td>\n    </tr>\n    <tr>\n      <th>18</th>\n      <td>69.450000</td>\n    </tr>\n    <tr>\n      <th>28</th>\n      <td>84.023810</td>\n    </tr>\n    <tr>\n      <th>10</th>\n      <td>52.066667</td>\n    </tr>\n    <tr>\n      <th>70</th>\n      <td>55.500000</td>\n    </tr>\n    <tr>\n      <th>4</th>\n      <td>70.500000</td>\n    </tr>\n    <tr>\n      <th>12</th>\n      <td>50.607843</td>\n    </tr>\n    <tr>\n      <th>49</th>\n      <td>54.208333</td>\n    </tr>\n    <tr>\n      <th>33</th>\n      <td>66.296296</td>\n    </tr>\n    <tr>\n      <th>67</th>\n      <td>73.311111</td>\n    </tr>\n    <tr>\n      <th>35</th>\n      <td>70.466667</td>\n    </tr>\n    <tr>\n      <th>68</th>\n      <td>76.066667</td>\n    </tr>\n    <tr>\n      <th>45</th>\n      <td>66.933333</td>\n    </tr>\n    <tr>\n      <th>73</th>\n      <td>69.166667</td>\n    </tr>\n    <tr>\n      <th>61</th>\n      <td>64.166667</td>\n    </tr>\n    <tr>\n      <th>55</th>\n      <td>62.404762</td>\n    </tr>\n    <tr>\n      <th>40</th>\n      <td>50.333333</td>\n    </tr>\n    <tr>\n      <th>9</th>\n      <td>75.555556</td>\n    </tr>\n    <tr>\n      <th>64</th>\n      <td>77.761905</td>\n    </tr>\n    <tr>\n      <th>5</th>\n      <td>82.666667</td>\n    </tr>\n    <tr>\n      <th>47</th>\n      <td>71.300000</td>\n    </tr>\n    <tr>\n      <th>34</th>\n      <td>64.481481</td>\n    </tr>\n    <tr>\n      <th>62</th>\n      <td>70.000000</td>\n    </tr>\n    <tr>\n      <th>42</th>\n      <td>69.866667</td>\n    </tr>\n  </tbody>\n</table>\n</div>",
            "text/plain": "    MiddleScore\n30    67.111111\n0     59.555556\n22    74.666667\n31    61.045455\n18    69.450000\n28    84.023810\n10    52.066667\n70    55.500000\n4     70.500000\n12    50.607843\n49    54.208333\n33    66.296296\n67    73.311111\n35    70.466667\n68    76.066667\n45    66.933333\n73    69.166667\n61    64.166667\n55    62.404762\n40    50.333333\n9     75.555556\n64    77.761905\n5     82.666667\n47    71.300000\n34    64.481481\n62    70.000000\n42    69.866667"
          },
          "metadata": {}
        }
      ]
    },
    {
      "metadata": {
        "trusted": true
      },
      "cell_type": "code",
      "source": "predictions",
      "execution_count": 141,
      "outputs": [
        {
          "output_type": "execute_result",
          "execution_count": 141,
          "data": {
            "text/plain": "array([[61.13644669],\n       [60.98353087],\n       [72.4227941 ],\n       [62.84658665],\n       [66.96553388],\n       [84.20862152],\n       [53.0906465 ],\n       [57.78795336],\n       [69.2772658 ],\n       [56.59872086],\n       [49.74215317],\n       [67.63224722],\n       [77.7577907 ],\n       [69.81993662],\n       [80.86012818],\n       [68.11646188],\n       [64.28375388],\n       [67.39097769],\n       [60.22357751],\n       [59.43297194],\n       [77.96075573],\n       [72.56639326],\n       [69.66702081],\n       [71.50992492],\n       [68.02200222],\n       [69.07430077],\n       [62.82643498]])"
          },
          "metadata": {}
        }
      ]
    },
    {
      "metadata": {
        "trusted": true
      },
      "cell_type": "code",
      "source": "from sklearn.metrics import mean_absolute_error, mean_squared_error",
      "execution_count": 127,
      "outputs": []
    },
    {
      "metadata": {
        "trusted": true
      },
      "cell_type": "code",
      "source": "print('MAE:', mean_absolute_error(predictions, y_test))",
      "execution_count": 129,
      "outputs": [
        {
          "output_type": "stream",
          "text": "MAE: 3.4525696050432964\n",
          "name": "stdout"
        }
      ]
    },
    {
      "metadata": {
        "trusted": true
      },
      "cell_type": "code",
      "source": "print('MSE:', mean_squared_error(predictions, y_test))",
      "execution_count": 130,
      "outputs": [
        {
          "output_type": "stream",
          "text": "MSE: 20.3244643168069\n",
          "name": "stdout"
        }
      ]
    },
    {
      "metadata": {},
      "cell_type": "markdown",
      "source": "Wie man sieht, konnte ich mit einfachen linearen Regression in diesem Fall gute Ergebnisse erzielen und die Punktzahl relativ genau vorhersagen. \nEs könnte interessant sein, andere Modelle hier auszuprobieren, zum Beispiel 'XGBRegressor'. Dieses Projekt wird noch weiter bearbeitet und vervollständigt."
    },
    {
      "metadata": {
        "trusted": true
      },
      "cell_type": "code",
      "source": "",
      "execution_count": null,
      "outputs": []
    }
  ],
  "metadata": {
    "kernelspec": {
      "name": "python36",
      "display_name": "Python 3.6",
      "language": "python"
    },
    "language_info": {
      "mimetype": "text/x-python",
      "nbconvert_exporter": "python",
      "name": "python",
      "pygments_lexer": "ipython3",
      "version": "3.6.6",
      "file_extension": ".py",
      "codemirror_mode": {
        "version": 3,
        "name": "ipython"
      }
    }
  },
  "nbformat": 4,
  "nbformat_minor": 2
}